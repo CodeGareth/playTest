{
 "cells": [
  {
   "cell_type": "markdown",
   "metadata": {},
   "source": [
    "## Developer Test \n",
    "\n",
    "The below is a series of responses to a developer test. \n",
    "\n",
    "I've picked a jupyter notebook to help work these as a series of \"mini challenges\" as opposed to having to worry about several different environments etc. "
   ]
  },
  {
   "cell_type": "markdown",
   "metadata": {},
   "source": [
    "## Q1 - Find a solution for the problem: \n",
    "\n",
    "*Given a sentence and a maximum length, break the sentence down in chunks not longer than the maximum length, without breaking words in the middle. Check if its possible to find a solution that doesn't read the sentence more than once.*\n",
    "\n",
    "---\n",
    "\n",
    "Notes/Plan: \n",
    "\n",
    "* Seems to require a function that allows for \"chunking\" of a sentence? \n",
    "    * A sentence in python can be treated like a list, hence the concern about breaking words in the middle? \n",
    "* The best course of action is to create a function which splits a sentence on whitespace, then iterates through chunking it once. \n",
    "    * Does this count as reading the sentence more than once? \n"
   ]
  },
  {
   "cell_type": "code",
   "execution_count": null,
   "metadata": {},
   "outputs": [],
   "source": []
  }
 ],
 "metadata": {
  "kernelspec": {
   "display_name": "Python 3",
   "language": "python",
   "name": "python3"
  },
  "language_info": {
   "codemirror_mode": {
    "name": "ipython",
    "version": 3
   },
   "file_extension": ".py",
   "mimetype": "text/x-python",
   "name": "python",
   "nbconvert_exporter": "python",
   "pygments_lexer": "ipython3",
   "version": "3.8.3"
  }
 },
 "nbformat": 4,
 "nbformat_minor": 4
}
