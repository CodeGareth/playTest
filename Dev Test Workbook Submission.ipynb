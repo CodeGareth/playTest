{
 "cells": [
  {
   "cell_type": "markdown",
   "metadata": {},
   "source": [
    "## Developer Test \n",
    "\n",
    "The below is a series of responses to a developer test. \n",
    "\n",
    "I've picked a jupyter notebook to help work these as a series of \"mini challenges\" as opposed to having to worry about several different environments etc. "
   ]
  },
  {
   "cell_type": "markdown",
   "metadata": {},
   "source": [
    "***\n",
    "\n",
    "# Q1 - Find a solution for the problem: \n",
    "\n",
    "*Given a sentence and a maximum length, break the sentence down in chunks not longer than the maximum length, without breaking words in the middle. Check if its possible to find a solution that doesn't read the sentence more than once.*\n",
    "\n",
    "---\n",
    "\n",
    "Notes/Plan: \n",
    "\n",
    "* Seems to require a function that allows for \"chunking\" of a sentence? \n",
    "    * A sentence in python can be treated like a list, hence the concern about breaking words in the middle? \n",
    "* The best course of action is to create a function which splits a sentence on whitespace, then iterates through chunking it once. \n",
    "    * Does this count as reading the sentence more than once? \n"
   ]
  },
  {
   "cell_type": "code",
   "execution_count": null,
   "metadata": {},
   "outputs": [],
   "source": [
    "## Solution to problem\n",
    "def sentence_chunker(sentence, max_length):\n",
    "\n",
    "    sentence_parts = sentence.split(\" \")\n",
    "    chunks = [sentence_parts[i:i+max_length] for i in range(0, len(sentence_parts), max_length)]\n",
    "    \n",
    "    print (f\"sentence: {sentence}\\nmaximum chunk length: {max_length}\\nevidence: {chunks}\")\n",
    "    \n",
    "    return chunks\n",
    "\n",
    "## Test to assert that solution works\n",
    "def chunk_test(chunks, max_length): \n",
    "    \n",
    "    print (\"Beginning testing...\")\n",
    "    \n",
    "    for chunk in chunks: \n",
    "        \n",
    "        assert(len(chunk) <= max_length), f\"The chunk: {chunk} is longer than the max length of {max_length}\"\n",
    "        \n",
    "    print (\"Testing successful!\")"
   ]
  },
  {
   "cell_type": "markdown",
   "metadata": {},
   "source": [
    "## Simple Script Usage\n",
    "\n",
    "The below is a simple script usage of the two functions above, one to solve the problem, and then one to prove the results pass the criteria. \n",
    "\n",
    "It provides a sentence, and a max length, and passes them through to the sentence breaker function. \n",
    "\n",
    "The print statements are set up to just look nice in a jupyter notebook environment."
   ]
  },
  {
   "cell_type": "code",
   "execution_count": null,
   "metadata": {},
   "outputs": [],
   "source": [
    "chunks = sentence_chunker(sentence = \"The quick brown fox jumped over the lazy dog\", \n",
    "                          max_length = 4)\n",
    "\n",
    "\n",
    "## Assert that it meets the problem criteria\n",
    "chunk_test(chunks, max_length = 4 )"
   ]
  },
  {
   "cell_type": "markdown",
   "metadata": {},
   "source": [
    "***\n",
    "\n",
    "# Q2 - Enhance the solution: \n",
    "\n",
    "*Enhance the solution to Q1 so that it can read the arguments and write the results into a NoSQL database of your choice.*\n",
    "\n",
    "***\n",
    "\n",
    "Notes/Plan: \n",
    "\n",
    "* My NoSQL database of choice is [TinyDB](https://tinydb.readthedocs.io/en/latest/index.html). It's a tiny document oriented database written in pure Python and has no external dependencies. I particularly like it as it's able to provide a json file out the other end, and no network hosting / db things have to be considered for simple examples. I've also used it in the past to be the backend to an extensive time-resourcing system I designed using Excel as a front end, and had no ability to host a live database on the network. \n",
    "* An additional benefit of this is that I don't have to worry about driver installations etc."
   ]
  },
  {
   "cell_type": "code",
   "execution_count": 12,
   "metadata": {},
   "outputs": [],
   "source": [
    "from tinydb import TinyDB\n",
    "\n",
    "class SentenceChunker:    \n",
    "    \n",
    "    \"\"\"A class handling sentence chunking\n",
    "    \n",
    "    Attributes\n",
    "    ----------\n",
    "    sentence: str\n",
    "        The sentence you wish to break up into specific sized chunks\n",
    "    max_length: int\n",
    "        The maximum length you wish your sentence chunks to be\n",
    "    db_target_name: str\n",
    "        Not compulsory, but if specifed, is the path to the json db you wish to store results\n",
    "    \n",
    "    Methods\n",
    "    -------\n",
    "    chunk():\n",
    "        Break provided sentence into chunks, size dictated by max length\n",
    "    chunk_test():\n",
    "        Assert that the sentence has been correctly chunked, and does not exceed max_length\n",
    "    store_results(): \n",
    "        Store chunk results within tinydb json database\n",
    "    chunk_and_store(): \n",
    "        On request, chunk and store results in tinydb json database in user location of choice\n",
    "    \"\"\"\n",
    "    \n",
    "    \n",
    "    def __init__(self, sentence:str, max_length:int, db_target_name:str = None): \n",
    "        \n",
    "        self.sentence = sentence\n",
    "        self.max_length = max_length \n",
    "        self.db_target_name = db_target_name\n",
    "    \n",
    "    def chunk(self): \n",
    "        \n",
    "        \"\"\"Break the provided sentence into chunks, size dictated by max length\n",
    "        \n",
    "        Returns\n",
    "        -------\n",
    "        list of lists\n",
    "        \"\"\"\n",
    "        \n",
    "        sentence_parts = self.sentence.split(\" \")\n",
    "        chunks = [sentence_parts[i:i+self.max_length] for i in range(0, len(sentence_parts), self.max_length)]\n",
    "        \n",
    "        print (f\"Converted --> {self.sentence}\\ninto --> {chunks}\")\n",
    "        \n",
    "        self.chunk_test(chunks, self.max_length)\n",
    "        \n",
    "        return chunks\n",
    "    \n",
    "    @staticmethod\n",
    "    def chunk_test(chunks, max_length): \n",
    "\n",
    "        \"\"\"Assert that the sentence has been broken into chunks no greater than max length\n",
    "        \n",
    "        Returns\n",
    "        -------\n",
    "        None\n",
    "        \"\"\"\n",
    "        \n",
    "        for chunk in chunks: \n",
    "\n",
    "            assert(len(chunk) <= max_length), f\"The chunk: {chunk} is longer than the max length of {max_length}\"\n",
    "            \n",
    "    def store_results(self, chunks): \n",
    "        \n",
    "        \"\"\"Store chunk results within tinydb json database\n",
    "        \n",
    "        Returns\n",
    "        -------\n",
    "        None\n",
    "        \"\"\"\n",
    "        \n",
    "        db = TinyDB(self.db_target_name)\n",
    "        db.insert({\"sentence\":self.sentence, \"max_length\":self.max_length, \"chunk_results\":chunks})\n",
    "        print (\"Inserted into database!\")\n",
    "        \n",
    "    def chunk_and_store(self): \n",
    "        \n",
    "        \"\"\"On request, chunk and store results in tinydb json database in user location of choice\n",
    "        \n",
    "        Returns\n",
    "        ------\n",
    "        None\"\"\"\n",
    "        \n",
    "        ## Break sentence up\n",
    "        chunks = self.chunk()\n",
    "        \n",
    "        ## Test it was broken successfully\n",
    "        self.chunk_test(chunks, self.max_length)\n",
    "        \n",
    "        ## Store results in json db\n",
    "        self.store_results(chunks)    \n",
    "        "
   ]
  },
  {
   "cell_type": "markdown",
   "metadata": {},
   "source": [
    "## Use Cases"
   ]
  },
  {
   "cell_type": "markdown",
   "metadata": {},
   "source": [
    "The below example is to show how you would use the class to still chunk the results -- the test feature to ensure it's correctly chunking to sizes no greater than the max length is embedded within the chunk function."
   ]
  },
  {
   "cell_type": "code",
   "execution_count": 13,
   "metadata": {},
   "outputs": [
    {
     "name": "stdout",
     "output_type": "stream",
     "text": [
      "Converted --> The quick brown fox jumped over the lazy dog\n",
      "into --> [['The', 'quick', 'brown', 'fox', 'jumped', 'over'], ['the', 'lazy', 'dog']]\n"
     ]
    },
    {
     "data": {
      "text/plain": [
       "[['The', 'quick', 'brown', 'fox', 'jumped', 'over'], ['the', 'lazy', 'dog']]"
      ]
     },
     "execution_count": 13,
     "metadata": {},
     "output_type": "execute_result"
    }
   ],
   "source": [
    "SentenceChunker(sentence = \"The quick brown fox jumped over the lazy dog\", \n",
    "                max_length = 6).chunk()"
   ]
  },
  {
   "cell_type": "markdown",
   "metadata": {},
   "source": [
    "***\n",
    "\n",
    "This next example demonstrates providing a user the ability to chunk and store if they want to. By providing a name with no file path as db_target_name, it will create a json file local to wherever you run this jupyter notebook. If you were to provide a full file path e.g C:\\My Documents\\LocalStorageExample.json it would store it away from the jupyter notebook directory"
   ]
  },
  {
   "cell_type": "code",
   "execution_count": 14,
   "metadata": {},
   "outputs": [
    {
     "name": "stdout",
     "output_type": "stream",
     "text": [
      "Converted --> The quick brown fox jumped over the lazy dog\n",
      "into --> [['The', 'quick', 'brown', 'fox', 'jumped', 'over'], ['the', 'lazy', 'dog']]\n",
      "Inserted into database!\n"
     ]
    }
   ],
   "source": [
    "SentenceChunker(sentence = \"The quick brown fox jumped over the lazy dog\", \n",
    "                max_length = 6, \n",
    "                db_target_name = \"LocalStorageExample.json\").chunk_and_store()"
   ]
  },
  {
   "cell_type": "markdown",
   "metadata": {},
   "source": [
    "It may be useful to prove that it has actually been added into the database, the below code is one way you could quickly check that:"
   ]
  },
  {
   "cell_type": "code",
   "execution_count": 15,
   "metadata": {},
   "outputs": [
    {
     "data": {
      "text/plain": [
       "[{'sentence': 'The quick brown fox jumped over the lazy dog',\n",
       "  'max_length': 6,\n",
       "  'chunk_results': [['The', 'quick', 'brown', 'fox', 'jumped', 'over'],\n",
       "   ['the', 'lazy', 'dog']]},\n",
       " {'sentence': 'The quick brown fox jumped over the lazy dog',\n",
       "  'max_length': 6,\n",
       "  'chunk_results': [['The', 'quick', 'brown', 'fox', 'jumped', 'over'],\n",
       "   ['the', 'lazy', 'dog']]},\n",
       " {'sentence': 'The quick brown fox jumped over the lazy dog',\n",
       "  'max_length': 6,\n",
       "  'chunk_results': [['The', 'quick', 'brown', 'fox', 'jumped', 'over'],\n",
       "   ['the', 'lazy', 'dog']]}]"
      ]
     },
     "execution_count": 15,
     "metadata": {},
     "output_type": "execute_result"
    }
   ],
   "source": [
    "TinyDB(\"LocalStorageExample.json\").all()"
   ]
  },
  {
   "cell_type": "markdown",
   "metadata": {},
   "source": [
    "It's possible to be more involved than this and search for the criteria you've just added into the db and ensure that it's been succesfully added - but for the sake of test, a visual assertion is okay. "
   ]
  },
  {
   "cell_type": "markdown",
   "metadata": {},
   "source": [
    "## Q3 - Please write a code review...\n",
    "\n",
    "For the following function, highlighting both positive and negative aspects: \n",
    "\n",
    "---\n",
    "\n",
    "Note/Plan: \n",
    "* As I don't wish to reveal the code within my github, I will write the review here in expectation that the company will refer back to their original PDF document.\n",
    "\n",
    "***\n",
    "\n",
    "### Positive Aspects: \n",
    "* The name of the function is clear\n",
    "* Makes good use of objects to carry attributes across\n",
    "\n",
    "### Negative Aspects:\n",
    "* The function could do with a doc string defining in further detail what's happening within the function\n",
    "* The use of self suggests that this is used within a Class, would want to see the usage of this function in the wider example to understand if this is the best location or simply gain further context. \n",
    "* The use of \"shortcuts\" within the nested if statement although timesaving, impacts readability. e.g \"if class_assignment:\" is shorthand for \"if clan_assignment = True\" \n",
    "* The combination of shortcut if statement, with comment next door could be combined into a more detailed if statement. This would improve readability, and remove a needless comment. e.g \"if clan_assignment: # Check if a player is in a clan\" -> \"if clan_assignment = True\" \n",
    "* Should the function create clan contain a delete or remove aspect within itself? Should that be extracted out into it's own logic in order to better isolate the \"create clan\" function? \n",
    "* The return object seems unclear in relation to \"create clan\", \n",
    "\n",
    "### Can't decide aspects: \n",
    "* I've always known the use of the unpacking arguments trick ** to be somewhat frowned upon as it can impact readability. At the line self.repo.create_clean(**data) would it be worth considering activating the method with those properties as opposed to creating a dict called data and then unpacking it?\n",
    "* I would want to isolate the individual aspects of clan_assignment check, clan_assignment_tidy_up, clan_request_purge, create_new_clan_on_system, and add_as_owner as seperate methods, and use \"create_clan\" as a wrapper\n",
    "* Should there be a dup name check on the clan name?  \n",
    "\n"
   ]
  },
  {
   "cell_type": "markdown",
   "metadata": {},
   "source": [
    "## Q4 - Outline the unit tests...\n",
    "\n",
    "Outline the unit tests you would write for the function listed in Q3:\n",
    "\n",
    "1. Is it possible to succesfully return the clan assignment for the current user? \n",
    "    * Can you prove that the user you've requested and the result are correct? You haven't picked up someone else? \n",
    "2. Can you confirm it's possible to actually remove player from current clan? \n",
    "    * Can you take a snapshot of a clan member list?\n",
    "    * \"mock\" the clan (so you dont actually remove them whilst testing but can mimic all the same attribute)\n",
    "    * Remove the player from the \"mocked clan\"\n",
    "    * Prove there's a difference between the clan member list at the start and the mocked clan member list? The difference being the user you wished to remove? \n",
    "3. Can you delete all open clan request for players succesfully?\n",
    "    * Get the player object \n",
    "    * Mock the player object\n",
    "    * Delete requests from player object\n",
    "    * Assert player_object.clan_requests != mock_player.clan_requests \n",
    "    * Assert len(mock_player.clan_requests) == 0\n",
    "4. Is a new clan successfully created on request?\n",
    "    * Pass the arguments necessary to create a new clan \n",
    "    * Mock the db element? \n",
    "    * Can you find the details of the new clan present within the db?\n",
    "5. Is the player succesfully added as the owner on request?\n",
    "    * Locate the clan object, \n",
    "    * Can you mock adding them to the clan as the owner? \n",
    "    * Can you now find that the player == owner? \n",
    "    * What happens if someone else is added just before? - How does the error handling hold up? \n",
    "6. Can you update clan data to get correct member count? "
   ]
  },
  {
   "cell_type": "markdown",
   "metadata": {},
   "source": [
    "## Q5 - Please turn the following requirements...\n",
    "\n",
    "Please turn the following requirements into 5 Acceptance Criteria of your choice. As the requirement is quite broad, feel free to choose what features your implementation will support. \n",
    "\n",
    "*We need a software capable of managing an automated coffee vending machine. The machine must be able to take an order between different variants of coffee preparations, take the money associated with the product, prepare the beverage and highlight a number of error events*.\n",
    "\n",
    "***\n",
    "\n",
    "#### Assumptions Made\n",
    "\n",
    "Assuming different variants of coffee preparations == different types of coffee as as opposed to different stages of preparing coffee for several customers; I'm picturing a coffee machine in a petrol station as an example, handling one user at a time\n",
    "\n",
    "Assuming that the elements listed in the initial statement are the features, I've decided to implement the below: \n",
    "\n",
    "*** \n",
    "\n",
    "The machine must be able to take an order between different variants of coffee preparations\n",
    "\n",
    "***\n",
    "\n",
    "1. Starting to take the order \n",
    "\n",
    "    * Given a customer has requested a coffee\n",
    "    * And the machine is available to take an order \n",
    "    * When the customer presses \"coffee\" button\n",
    "    * Then the software should access its database of coffee variants\n",
    "    * And present a selection of coffee variants for the customer to order from\n",
    "\n",
    "\n",
    "\n",
    "2. Recognising the order\n",
    "\n",
    "    * Given the customer has selected a coffee from the presented selection\n",
    "    * And the machine is available to take an order \n",
    "    * When the customer selects the variant\n",
    "    * Then the software should recognise the customer input\n",
    "    * And the sofware should accept and store that customer input\n",
    "\n",
    "\n",
    "\n",
    "3. Confirming with the user prior to accepting payment\n",
    "\n",
    "    * Given the software has accepted the customer input\n",
    "    * And the customer is ready to make payment for the order \n",
    "    * When the software accepts and stores the order\n",
    "    * Then the software should confirm with the customer that the stored details are correct\n",
    "    * And present to the customer an opportunity to confirm their order\n",
    "\n",
    "\n",
    "\n",
    "4. The software is able to accept user confirmation of their order and handle accordingly\n",
    "\n",
    "    * Positive: \n",
    "        * Given the customer has been asked to confirm their order\n",
    "        * And the software is waiting for a response\n",
    "        * When the customer confirms their order is correct \n",
    "        * Then the software is able to store the customer order as a confirmed order\n",
    "        * And the software is able to move on to take secure payment for the order\n",
    "    * Negative: \n",
    "        * Given the customer has been asked to confirm their order\n",
    "        * And the software is waiting for a response\n",
    "        * When the customer confirms their order is incorrect \n",
    "        * Then the software is able to place the customer at the beginning of the process to start a new order\n",
    "        * And the software is able to clear out \"previous information\" from the customer\n",
    "\n",
    "\n",
    "5. The software is able to move on to the money handling process after confirming and taking the order\n",
    "\n",
    "    * Given the software has accepted and stored the confirmed order \n",
    "    * And the customer is ready to make payment for the order\n",
    "    * When the software accepts the positive confirmation from the customer\n",
    "    * Then the software should proceed to the money handling process\n",
    "    * And prepare to receive payment for the order\n",
    "\n"
   ]
  },
  {
   "cell_type": "markdown",
   "metadata": {},
   "source": [
    "## Q6 - Please draw a high-level diagram (in a tool of your choice)...\n",
    "\n",
    "Outlining a possible implementation for the Acceptance Criteria identified in Q5\n",
    "\n",
    "Please refer to the image stored in the repo as \"HighLevelDiagram\"\n"
   ]
  },
  {
   "cell_type": "code",
   "execution_count": null,
   "metadata": {},
   "outputs": [],
   "source": []
  }
 ],
 "metadata": {
  "kernelspec": {
   "display_name": "Python 3",
   "language": "python",
   "name": "python3"
  },
  "language_info": {
   "codemirror_mode": {
    "name": "ipython",
    "version": 3
   },
   "file_extension": ".py",
   "mimetype": "text/x-python",
   "name": "python",
   "nbconvert_exporter": "python",
   "pygments_lexer": "ipython3",
   "version": "3.8.3"
  }
 },
 "nbformat": 4,
 "nbformat_minor": 4
}
