{
 "cells": [
  {
   "cell_type": "markdown",
   "source": [
    "## Developer Test \r\n",
    "\r\n",
    "The below is a series of responses to a developer test. \r\n",
    "\r\n",
    "I've picked a jupyter notebook to help work these as a series of \"mini challenges\" as opposed to having to worry about several different environments etc.\r\n",
    "\r\n",
    "The one module that will need to be installed for this is [tinydb](https://tinydb.readthedocs.io/en/latest/index.html) - you can refer to the installation instructions with this link to ensure you install the correct version. \r\n",
    "\r\n",
    "*If this was a one off module, I would have worked this within a virtual environment and provided you a requirements.txt to run pip install -r requirements.txt against*"
   ],
   "metadata": {}
  },
  {
   "cell_type": "markdown",
   "source": [
    "***\n",
    "\n",
    "# Q1 - Find a solution for the problem: \n",
    "\n",
    "*Given a sentence and a maximum length, break the sentence down in chunks not longer than the maximum length, without breaking words in the middle. Check if its possible to find a solution that doesn't read the sentence more than once.*\n",
    "\n",
    "---\n",
    "\n",
    "Notes/Plan: \n",
    "\n",
    "* Seems to require a function that allows for \"chunking\" of a sentence? \n",
    "    * A sentence in python can be treated like a list, hence the concern about breaking words in the middle? \n",
    "* The best course of action is to create a function which splits a sentence on whitespace, then iterates through chunking it once. \n",
    "    * Does this count as reading the sentence more than once? \n"
   ],
   "metadata": {}
  },
  {
   "cell_type": "code",
   "execution_count": 1,
   "source": [
    "## Solution to problem\r\n",
    "def sentence_chunker(sentence, max_length):\r\n",
    "\r\n",
    "    sentence_parts = sentence.split(\" \")\r\n",
    "    chunks = [sentence_parts[i:i+max_length] for i in range(0, len(sentence_parts), max_length)]\r\n",
    "    \r\n",
    "    print (f\"sentence: {sentence}\\nmaximum chunk length: {max_length}\\nevidence: {chunks}\")\r\n",
    "    \r\n",
    "    return chunks\r\n",
    "\r\n",
    "## Test to assert that solution works\r\n",
    "def chunk_test(chunks, max_length): \r\n",
    "    \r\n",
    "    print (\"Beginning testing...\")\r\n",
    "    \r\n",
    "    for chunk in chunks: \r\n",
    "        \r\n",
    "        assert(len(chunk) <= max_length), f\"The chunk: {chunk} is longer than the max length of {max_length}\"\r\n",
    "        \r\n",
    "    print (\"Testing successful!\")"
   ],
   "outputs": [],
   "metadata": {}
  },
  {
   "cell_type": "markdown",
   "source": [
    "## Simple Script Usage\n",
    "\n",
    "The below is a simple script usage of the two functions above, one to solve the problem, and then one to prove the results pass the criteria. \n",
    "\n",
    "It provides a sentence, and a max length, and passes them through to the sentence breaker function. \n",
    "\n",
    "The print statements are set up to just look nice in a jupyter notebook environment."
   ],
   "metadata": {}
  },
  {
   "cell_type": "code",
   "execution_count": 2,
   "source": [
    "chunks = sentence_chunker(sentence = \"The quick brown fox jumped over the lazy dog\", \r\n",
    "                          max_length = 4)\r\n",
    "\r\n",
    "\r\n",
    "## Assert that it meets the problem criteria\r\n",
    "chunk_test(chunks, max_length = 4 )"
   ],
   "outputs": [
    {
     "output_type": "stream",
     "name": "stdout",
     "text": [
      "sentence: The quick brown fox jumped over the lazy dog\n",
      "maximum chunk length: 4\n",
      "evidence: [['The', 'quick', 'brown', 'fox'], ['jumped', 'over', 'the', 'lazy'], ['dog']]\n",
      "Beginning testing...\n",
      "Testing successful!\n"
     ]
    }
   ],
   "metadata": {}
  },
  {
   "cell_type": "markdown",
   "source": [
    "***\n",
    "\n",
    "# Q2 - Enhance the solution: \n",
    "\n",
    "*Enhance the solution to Q1 so that it can read the arguments and write the results into a NoSQL database of your choice.*\n",
    "\n",
    "***\n",
    "\n",
    "Notes/Plan: \n",
    "\n",
    "* My NoSQL database of choice is [TinyDB](https://tinydb.readthedocs.io/en/latest/index.html). It's a tiny document oriented database written in pure Python and has no external dependencies. I particularly like it as it's able to provide a json file out the other end, and no network hosting / db things have to be considered for simple examples. I've also used it in the past to be the backend to an extensive time-resourcing system I designed using Excel as a front end, and had no ability to host a live database on the network. \n",
    "* An additional benefit of this is that I don't have to worry about driver installations etc."
   ],
   "metadata": {}
  },
  {
   "cell_type": "code",
   "execution_count": 3,
   "source": [
    "from tinydb import TinyDB\r\n",
    "\r\n",
    "class SentenceChunker:    \r\n",
    "    \r\n",
    "    \"\"\"A class handling sentence chunking\r\n",
    "    \r\n",
    "    Attributes\r\n",
    "    ----------\r\n",
    "    sentence: str\r\n",
    "        The sentence you wish to break up into specific sized chunks\r\n",
    "    max_length: int\r\n",
    "        The maximum length you wish your sentence chunks to be\r\n",
    "    db_target_name: str\r\n",
    "        Not compulsory, but if specifed, is the path to the json db you wish to store results\r\n",
    "    \r\n",
    "    Methods\r\n",
    "    -------\r\n",
    "    chunk(self):\r\n",
    "        Break provided sentence into chunks, size dictated by max length\r\n",
    "    chunk_test(chunks, max_length):\r\n",
    "        Assert that the sentence has been correctly chunked, and does not exceed max_length\r\n",
    "    store_results(self, chunks): \r\n",
    "        Store chunk results within tinydb json database\r\n",
    "    chunk_and_store(self): \r\n",
    "        On request, chunk and store results in tinydb json database in user location of choice\r\n",
    "    \"\"\"\r\n",
    "    \r\n",
    "    \r\n",
    "    def __init__(self, sentence:str, max_length:int, db_target_name:str = None): \r\n",
    "        \r\n",
    "        self.sentence = sentence\r\n",
    "        self.max_length = max_length \r\n",
    "        self.db_target_name = db_target_name\r\n",
    "    \r\n",
    "    def chunk(self): \r\n",
    "        \r\n",
    "        \"\"\"Break the provided sentence into chunks, size dictated by max length\r\n",
    "        \r\n",
    "        Returns\r\n",
    "        -------\r\n",
    "        list of lists\r\n",
    "        \"\"\"\r\n",
    "        \r\n",
    "        sentence_parts = self.sentence.split(\" \")\r\n",
    "        chunks = [sentence_parts[i:i+self.max_length] for i in range(0, len(sentence_parts), self.max_length)]\r\n",
    "        \r\n",
    "        print (f\"Converted --> {self.sentence}\\ninto --> {chunks}\")\r\n",
    "        \r\n",
    "        self.chunk_test(chunks, self.max_length)\r\n",
    "        \r\n",
    "        return chunks\r\n",
    "    \r\n",
    "    @staticmethod\r\n",
    "    def chunk_test(chunks, max_length): \r\n",
    "\r\n",
    "        \"\"\"Assert that the sentence has been broken into chunks no greater than max length\r\n",
    "        \r\n",
    "        Returns\r\n",
    "        -------\r\n",
    "        None\r\n",
    "        \"\"\"\r\n",
    "        \r\n",
    "        for chunk in chunks: \r\n",
    "\r\n",
    "            assert(len(chunk) <= max_length), f\"The chunk: {chunk} is longer than the max length of {max_length}\"\r\n",
    "            \r\n",
    "    def store_results(self, chunks): \r\n",
    "        \r\n",
    "        \"\"\"Store chunk results within tinydb json database\r\n",
    "        \r\n",
    "        Returns\r\n",
    "        -------\r\n",
    "        None\r\n",
    "        \"\"\"\r\n",
    "        \r\n",
    "        db = TinyDB(self.db_target_name)\r\n",
    "        db.insert({\"sentence\":self.sentence, \"max_length\":self.max_length, \"chunk_results\":chunks})\r\n",
    "        print (\"Inserted into database!\")\r\n",
    "        \r\n",
    "    def chunk_and_store(self): \r\n",
    "        \r\n",
    "        \"\"\"On request, chunk and store results in tinydb json database in user location of choice\r\n",
    "        \r\n",
    "        Returns\r\n",
    "        ------\r\n",
    "        None\"\"\"\r\n",
    "        \r\n",
    "        ## Break sentence up\r\n",
    "        chunks = self.chunk()\r\n",
    "        \r\n",
    "        ## Test it was broken successfully\r\n",
    "        self.chunk_test(chunks, self.max_length)\r\n",
    "        \r\n",
    "        ## Store results in json db\r\n",
    "        self.store_results(chunks)    \r\n",
    "        "
   ],
   "outputs": [],
   "metadata": {}
  },
  {
   "cell_type": "markdown",
   "source": [
    "## Use Cases"
   ],
   "metadata": {}
  },
  {
   "cell_type": "markdown",
   "source": [
    "The below example is to show how you would use the class to still chunk the results -- the test feature to ensure it's correctly chunking to sizes no greater than the max length is embedded within the chunk function."
   ],
   "metadata": {}
  },
  {
   "cell_type": "code",
   "execution_count": 4,
   "source": [
    "SentenceChunker(sentence = \"The quick brown fox jumped over the lazy dog\", \r\n",
    "                max_length = 6).chunk()"
   ],
   "outputs": [
    {
     "output_type": "stream",
     "name": "stdout",
     "text": [
      "Converted --> The quick brown fox jumped over the lazy dog\n",
      "into --> [['The', 'quick', 'brown', 'fox', 'jumped', 'over'], ['the', 'lazy', 'dog']]\n"
     ]
    },
    {
     "output_type": "execute_result",
     "data": {
      "text/plain": [
       "[['The', 'quick', 'brown', 'fox', 'jumped', 'over'], ['the', 'lazy', 'dog']]"
      ]
     },
     "metadata": {},
     "execution_count": 4
    }
   ],
   "metadata": {}
  },
  {
   "cell_type": "markdown",
   "source": [
    "***\n",
    "\n",
    "This next example demonstrates providing a user the ability to chunk and store if they want to. By providing a name with no file path as db_target_name, it will create a json file local to wherever you run this jupyter notebook. If you were to provide a full file path e.g C:\\My Documents\\LocalStorageExample.json it would store it away from the jupyter notebook directory"
   ],
   "metadata": {}
  },
  {
   "cell_type": "code",
   "execution_count": 7,
   "source": [
    "SentenceChunker(sentence = \"The quick brown fox jumped over the lazy dog\", \r\n",
    "                max_length = 3, \r\n",
    "                db_target_name = \"LocalStorageExample.json\").chunk_and_store()"
   ],
   "outputs": [
    {
     "output_type": "stream",
     "name": "stdout",
     "text": [
      "Converted --> The quick brown fox jumped over the lazy dog\n",
      "into --> [['The', 'quick', 'brown'], ['fox', 'jumped', 'over'], ['the', 'lazy', 'dog']]\n",
      "Inserted into database!\n"
     ]
    }
   ],
   "metadata": {}
  },
  {
   "cell_type": "markdown",
   "source": [
    "It may be useful to prove that it has actually been added into the database, the below code is one way you could quickly check that:"
   ],
   "metadata": {}
  },
  {
   "cell_type": "code",
   "execution_count": 8,
   "source": [
    "TinyDB(\"LocalStorageExample.json\").all()"
   ],
   "outputs": [
    {
     "output_type": "execute_result",
     "data": {
      "text/plain": [
       "[{'sentence': 'The quick brown fox jumped over the lazy dog',\n",
       "  'max_length': 3,\n",
       "  'chunk_results': [['The', 'quick', 'brown'],\n",
       "   ['fox', 'jumped', 'over'],\n",
       "   ['the', 'lazy', 'dog']]}]"
      ]
     },
     "metadata": {},
     "execution_count": 8
    }
   ],
   "metadata": {}
  },
  {
   "cell_type": "markdown",
   "source": [
    "It's possible to be more involved than this and search for the criteria you've just added into the db and ensure that it's been succesfully added - but for the sake of test, a visual assertion is okay. "
   ],
   "metadata": {}
  },
  {
   "cell_type": "markdown",
   "source": [
    "***\r\n",
    "## Q3 - Please write a code review...\r\n",
    "\r\n",
    "For the following function, highlighting both positive and negative aspects: \r\n",
    "\r\n",
    "---\r\n",
    "\r\n",
    "Note/Plan: \r\n",
    "* As I don't wish to reveal the code within my github, I will write the review here in expectation that the company will refer back to their original PDF document.\r\n",
    "\r\n",
    "***\r\n",
    "\r\n",
    "### Positive Aspects: \r\n",
    "* The name of the function is clear\r\n",
    "* Makes good use of objects to carry attributes across\r\n",
    "\r\n",
    "### Negative Aspects:\r\n",
    "* The function could do with a doc string defining in further detail what's happening within the function\r\n",
    "* The use of self suggests that this is used within a Class, would want to see the usage of this function in the wider example to understand if this is the best location or simply gain further context. \r\n",
    "* The use of \"shortcuts\" within the nested if statement although timesaving, impacts readability. e.g \"if class_assignment:\" is shorthand for \"if clan_assignment = True\" \r\n",
    "* The combination of shortcut if statement, with comment next door could be combined into a more detailed if statement. This would improve readability, and remove a needless comment. e.g \"if clan_assignment: # Check if a player is in a clan\" -> \"if clan_assignment = True\" \r\n",
    "* Should the function create clan contain a delete or remove aspect within itself? Should that be extracted out into it's own logic in order to better isolate the \"create clan\" function? \r\n",
    "* The return object seems unclear in relation to \"create clan\", \r\n",
    "\r\n",
    "### Can't decide aspects: \r\n",
    "* I've always known the use of the unpacking arguments trick ** to be somewhat frowned upon as it can impact readability. At the line self.repo.create_clean(**data) would it be worth considering activating the method with those properties as opposed to creating a dict called data and then unpacking it?\r\n",
    "* I would want to isolate the individual aspects of clan_assignment check, clan_assignment_tidy_up, clan_request_purge, create_new_clan_on_system, and add_as_owner as seperate methods, and use \"create_clan\" as a wrapper\r\n",
    "* Should there be a dup name check on the clan name?  \r\n",
    "\r\n"
   ],
   "metadata": {}
  },
  {
   "cell_type": "markdown",
   "source": [
    "***\r\n",
    "## Q4 - Outline the unit tests...\r\n",
    "\r\n",
    "Outline the unit tests you would write for the function listed in Q3:\r\n",
    "\r\n",
    "1. Is it possible to succesfully return the clan assignment for the current user? \r\n",
    "    * Can you prove that the user you've requested and the result are correct? You haven't picked up someone else? \r\n",
    "2. Can you confirm it's possible to actually remove player from current clan? \r\n",
    "    * Can you take a snapshot of a clan member list?\r\n",
    "    * \"mock\" the clan (so you dont actually remove them whilst testing but can mimic all the same attribute)\r\n",
    "    * Remove the player from the \"mocked clan\"\r\n",
    "    * Prove there's a difference between the clan member list at the start and the mocked clan member list? The difference being the user you wished to remove? \r\n",
    "3. Can you delete all open clan request for players succesfully?\r\n",
    "    * Get the player object \r\n",
    "    * Mock the player object\r\n",
    "    * Delete requests from player object\r\n",
    "    * Assert player_object.clan_requests != mock_player.clan_requests \r\n",
    "    * Assert len(mock_player.clan_requests) == 0\r\n",
    "4. Is a new clan successfully created on request?\r\n",
    "    * Pass the arguments necessary to create a new clan \r\n",
    "    * Mock the db element? \r\n",
    "    * Can you find the details of the new clan present within the db?\r\n",
    "5. Is the player succesfully added as the owner on request?\r\n",
    "    * Locate the clan object, \r\n",
    "    * Can you mock adding them to the clan as the owner? \r\n",
    "    * Can you now find that the player == owner? \r\n",
    "    * What happens if someone else is added just before? - How does the error handling hold up? \r\n",
    "6. Can you update clan data to get correct member count? "
   ],
   "metadata": {}
  },
  {
   "cell_type": "markdown",
   "source": [
    "***\r\n",
    "## Q5 - Please turn the following requirements...\r\n",
    "\r\n",
    "Please turn the following requirements into 5 Acceptance Criteria of your choice. As the requirement is quite broad, feel free to choose what features your implementation will support. \r\n",
    "\r\n",
    "*We need a software capable of managing an automated coffee vending machine. The machine must be able to take an order between different variants of coffee preparations, take the money associated with the product, prepare the beverage and highlight a number of error events*.\r\n",
    "\r\n",
    "***\r\n",
    "\r\n",
    "#### Assumptions Made\r\n",
    "\r\n",
    "Assuming different variants of coffee preparations == different types of coffee as as opposed to different stages of preparing coffee for several customers; I'm picturing a coffee machine in a petrol station as an example, handling one user at a time\r\n",
    "\r\n",
    "Assuming that the elements listed in the initial statement are the features, I've decided to implement the below: \r\n",
    "\r\n",
    "*** \r\n",
    "\r\n",
    "The machine must be able to take an order between different variants of coffee preparations\r\n",
    "\r\n",
    "***\r\n",
    "\r\n",
    "1. Starting to take the order \r\n",
    "\r\n",
    "    * Given a customer has requested a coffee\r\n",
    "    * And the machine is available to take an order \r\n",
    "    * When the customer presses \"coffee\" button\r\n",
    "    * Then the software should access its database of coffee variants\r\n",
    "    * And present a selection of coffee variants for the customer to order from\r\n",
    "\r\n",
    "\r\n",
    "\r\n",
    "2. Recognising the order\r\n",
    "\r\n",
    "    * Given the customer has selected a coffee from the presented selection\r\n",
    "    * And the machine is available to take an order \r\n",
    "    * When the customer selects the variant\r\n",
    "    * Then the software should recognise the customer input\r\n",
    "    * And the sofware should accept and store that customer input\r\n",
    "\r\n",
    "\r\n",
    "\r\n",
    "3. Confirming with the user prior to accepting payment\r\n",
    "\r\n",
    "    * Given the software has accepted the customer input\r\n",
    "    * And the customer is ready to make payment for the order \r\n",
    "    * When the software accepts and stores the order\r\n",
    "    * Then the software should confirm with the customer that the stored details are correct\r\n",
    "    * And present to the customer an opportunity to confirm their order\r\n",
    "\r\n",
    "\r\n",
    "\r\n",
    "4. The software is able to accept user confirmation of their order and handle accordingly\r\n",
    "\r\n",
    "    * Positive: \r\n",
    "        * Given the customer has been asked to confirm their order\r\n",
    "        * And the software is waiting for a response\r\n",
    "        * When the customer confirms their order is correct \r\n",
    "        * Then the software is able to store the customer order as a confirmed order\r\n",
    "        * And the software is able to move on to take secure payment for the order\r\n",
    "    * Negative: \r\n",
    "        * Given the customer has been asked to confirm their order\r\n",
    "        * And the software is waiting for a response\r\n",
    "        * When the customer confirms their order is incorrect \r\n",
    "        * Then the software is able to place the customer at the beginning of the process to start a new order\r\n",
    "        * And the software is able to clear out \"previous information\" from the customer\r\n",
    "\r\n",
    "\r\n",
    "5. The software is able to move on to the money handling process after confirming and taking the order\r\n",
    "\r\n",
    "    * Given the software has accepted and stored the confirmed order \r\n",
    "    * And the customer is ready to make payment for the order\r\n",
    "    * When the software accepts the positive confirmation from the customer\r\n",
    "    * Then the software should proceed to the money handling process\r\n",
    "    * And prepare to receive payment for the order\r\n",
    "\r\n"
   ],
   "metadata": {}
  },
  {
   "cell_type": "markdown",
   "source": [
    "***\r\n",
    "## Q6 - Please draw a high-level diagram (in a tool of your choice)...\r\n",
    "\r\n",
    "Outlining a possible implementation for the Acceptance Criteria identified in Q5\r\n",
    "\r\n",
    "Please refer to the image stored in the repo as \"HighLevelDiagram\"\r\n"
   ],
   "metadata": {}
  },
  {
   "cell_type": "markdown",
   "source": [
    "***\r\n",
    "## End of submission"
   ],
   "metadata": {}
  },
  {
   "cell_type": "markdown",
   "source": [],
   "metadata": {}
  }
 ],
 "metadata": {
  "kernelspec": {
   "name": "python3",
   "display_name": "Python 3.8.3 64-bit ('base': conda)"
  },
  "language_info": {
   "codemirror_mode": {
    "name": "ipython",
    "version": 3
   },
   "file_extension": ".py",
   "mimetype": "text/x-python",
   "name": "python",
   "nbconvert_exporter": "python",
   "pygments_lexer": "ipython3",
   "version": "3.8.3"
  },
  "interpreter": {
   "hash": "f82f49cfaa6196f00ea97db3685230874690e496436d23e0249010f43063a2b2"
  }
 },
 "nbformat": 4,
 "nbformat_minor": 4
}